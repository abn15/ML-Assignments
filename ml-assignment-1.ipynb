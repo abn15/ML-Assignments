{
  "cells": [
    {
      "cell_type": "markdown",
      "metadata": {
        "id": "u0Ps2L2Rq2Is"
      },
      "source": [
        "\n",
        "\n",
        "NUMPY PRACTICE\n",
        "\n"
      ]
    },
    {
      "cell_type": "code",
      "execution_count": 1,
      "metadata": {
        "id": "Us1DGeQ8sXyZ"
      },
      "outputs": [],
      "source": [
        "import numpy as np"
      ]
    },
    {
      "cell_type": "markdown",
      "metadata": {
        "id": "0BVB--KXrXEU"
      },
      "source": [
        "Question 1"
      ]
    },
    {
      "cell_type": "code",
      "execution_count": null,
      "metadata": {
        "colab": {
          "base_uri": "https://localhost:8080/"
        },
        "id": "qUahE3yPqV6F",
        "outputId": "78024888-0ee7-4574-da25-93ff968842ac"
      },
      "outputs": [
        {
          "name": "stdout",
          "output_type": "stream",
          "text": [
            "[5 4 6 3 2 1]\n"
          ]
        }
      ],
      "source": [
        "#a\n",
        "\n",
        "arr = np.array([1, 2, 3, 6, 4, 5])\n",
        "reversed_arr = arr[::-1]\n",
        "\n",
        "print(reversed_arr)"
      ]
    },
    {
      "cell_type": "code",
      "execution_count": null,
      "metadata": {
        "colab": {
          "base_uri": "https://localhost:8080/"
        },
        "id": "KHBBFguEtKdQ",
        "outputId": "91c9e800-461b-478c-d39a-70fc4a49716e"
      },
      "outputs": [
        {
          "name": "stdout",
          "output_type": "stream",
          "text": [
            "[1 2 3 2 4 5 1 2 3]\n"
          ]
        }
      ],
      "source": [
        "#b\n",
        "array1 = np.array([[1, 2, 3], [2, 4, 5], [1, 2, 3]])\n",
        "\n",
        "\n",
        "flattened_array1 = array1.flatten()\n",
        "\n",
        "print(flattened_array1)"
      ]
    },
    {
      "cell_type": "code",
      "execution_count": null,
      "metadata": {
        "colab": {
          "base_uri": "https://localhost:8080/"
        },
        "id": "8gvXpwlbtlyK",
        "outputId": "fdc6a32c-ff36-41dc-e376-aeca1c7835ff"
      },
      "outputs": [
        {
          "name": "stdout",
          "output_type": "stream",
          "text": [
            "[1 2 3 2 4 5 1 2 3]\n"
          ]
        }
      ],
      "source": [
        "array1 = np.array([[1, 2, 3], [2, 4, 5], [1, 2, 3]])\n",
        "\n",
        "\n",
        "flattened_array1 = array1.ravel()\n",
        "\n",
        "print(flattened_array1)"
      ]
    },
    {
      "cell_type": "code",
      "execution_count": null,
      "metadata": {
        "colab": {
          "base_uri": "https://localhost:8080/"
        },
        "id": "TXV7O3wIuIWh",
        "outputId": "ee3f00d9-34ae-4750-af49-e7da77f81e98"
      },
      "outputs": [
        {
          "name": "stdout",
          "output_type": "stream",
          "text": [
            "[[ True  True]\n",
            " [ True  True]]\n"
          ]
        }
      ],
      "source": [
        "arr1 = np.array([[1, 2], [3, 4]])\n",
        "arr2 = np.array([[1, 2], [3, 4]])\n",
        "\n",
        "\n",
        "comparison_result = arr1 == arr2\n",
        "\n",
        "print(comparison_result)\n"
      ]
    },
    {
      "cell_type": "code",
      "execution_count": null,
      "metadata": {
        "colab": {
          "base_uri": "https://localhost:8080/"
        },
        "id": "0pJCCiW5uWQo",
        "outputId": "30163337-8f8f-47c2-fb39-d6310e7a8e30"
      },
      "outputs": [
        {
          "name": "stdout",
          "output_type": "stream",
          "text": [
            "Array x:\n",
            "Most frequent value: [1]\n",
            "Indices: [0 5 7 8 9]\n",
            "\n",
            "Array y:\n",
            "Most frequent value: [1 3]\n",
            "Indices: [0 1 2]\n"
          ]
        }
      ],
      "source": [
        "#d\n",
        "def most_frequent_value_and_indices(arr):\n",
        "    unique_values, counts = np.unique(arr, return_counts=True)\n",
        "    max_count = np.max(counts)\n",
        "    most_frequent_values = unique_values[counts == max_count]\n",
        "    indices = np.where(arr == most_frequent_values[0])[0]\n",
        "    return most_frequent_values, indices\n",
        "\n",
        "# Array x\n",
        "x = np.array([1, 2, 3, 4, 5, 1, 2, 1, 1, 1])\n",
        "most_frequent_x, indices_x = most_frequent_value_and_indices(x)\n",
        "print(\"Array x:\")\n",
        "print(\"Most frequent value:\", most_frequent_x)\n",
        "print(\"Indices:\", indices_x)\n",
        "\n",
        "# Array y\n",
        "y = np.array([1, 1, 1, 2, 3, 4, 2, 4, 3, 3])\n",
        "most_frequent_y, indices_y = most_frequent_value_and_indices(y)\n",
        "print(\"\\nArray y:\")\n",
        "print(\"Most frequent value:\", most_frequent_y)\n",
        "print(\"Indices:\", indices_y)\n"
      ]
    },
    {
      "cell_type": "code",
      "execution_count": null,
      "metadata": {
        "colab": {
          "base_uri": "https://localhost:8080/"
        },
        "id": "QDq29AYaui-E",
        "outputId": "dbee2988-4a14-43f3-dc46-1da3059db479"
      },
      "outputs": [
        {
          "name": "stdout",
          "output_type": "stream",
          "text": [
            "Sum of all elements: 45\n",
            "Sum of all elements row-wise: [14 16 15]\n",
            "Sum of all elements column-wise: [20  9 16]\n"
          ]
        }
      ],
      "source": [
        "#e\n",
        "import numpy as np\n",
        "\n",
        "gfg = np.array([[4, 1, 9], [12, 3, 1], [4, 5, 6]])\n",
        "\n",
        "# i. Sum of all elements\n",
        "sum_all_elements = np.sum(gfg)\n",
        "print(\"Sum of all elements:\", sum_all_elements)\n",
        "\n",
        "# ii. Sum of all elements row-wise\n",
        "sum_row_wise = np.sum(gfg, axis=1)\n",
        "print(\"Sum of all elements row-wise:\", sum_row_wise)\n",
        "\n",
        "# iii. Sum of all elements column-wise\n",
        "sum_column_wise = np.sum(gfg, axis=0)\n",
        "print(\"Sum of all elements column-wise:\", sum_column_wise)\n"
      ]
    },
    {
      "cell_type": "code",
      "execution_count": null,
      "metadata": {
        "colab": {
          "base_uri": "https://localhost:8080/"
        },
        "id": "OtoMmqPIu83D",
        "outputId": "ae9fe244-f51b-4155-ea83-4345f2fa4489"
      },
      "outputs": [
        {
          "name": "stdout",
          "output_type": "stream",
          "text": [
            "Sum of diagonal elements: 176\n",
            "Eigenvalues of the matrix: [98.16835147 28.097044   49.73460452]\n",
            "Eigenvectors of the matrix:\n",
            "[0.4574917  0.28447814 0.84248058]\n",
            "[ 0.34637121 -0.72784061  0.59184038]\n",
            "[-0.15017693 -0.4852124   0.8614034 ]\n",
            "Inverse of the matrix:\n",
            "[[ 0.02404141 -0.00911212 -0.00444671]\n",
            " [-0.01667882  0.02966905  0.0024785 ]\n",
            " [ 0.00631287 -0.01603732  0.01217379]]\n",
            "Determinant of the matrix: 137180.0000000001\n"
          ]
        }
      ],
      "source": [
        "#f\n",
        "# Given matrix\n",
        "n_array = np.array([[55, 25, 15], [30, 44, 2], [11, 45, 77]])\n",
        "\n",
        "# i. Sum of diagonal elements\n",
        "sum_diagonal = np.trace(n_array)\n",
        "print(\"Sum of diagonal elements:\", sum_diagonal)\n",
        "\n",
        "# ii. Eigenvalues of matrix\n",
        "eigenvalues, _ = np.linalg.eig(n_array)\n",
        "print(\"Eigenvalues of the matrix:\", eigenvalues)\n",
        "\n",
        "# iii. Eigenvectors of matrix\n",
        "_, eigenvectors = np.linalg.eig(n_array)\n",
        "print(\"Eigenvectors of the matrix:\")\n",
        "for vector in eigenvectors.T:\n",
        "    print(vector)\n",
        "\n",
        "# iv. Inverse of matrix\n",
        "try:\n",
        "    inverse_matrix = np.linalg.inv(n_array)\n",
        "    print(\"Inverse of the matrix:\")\n",
        "    print(inverse_matrix)\n",
        "except np.linalg.LinAlgError:\n",
        "    print(\"Matrix is singular, and its inverse does not exist.\")\n",
        "\n",
        "# v. Determinant of matrix\n",
        "determinant = np.linalg.det(n_array)\n",
        "print(\"Determinant of the matrix:\", determinant)\n"
      ]
    },
    {
      "cell_type": "code",
      "execution_count": null,
      "metadata": {
        "colab": {
          "base_uri": "https://localhost:8080/"
        },
        "id": "iJ9fVIxBvHvZ",
        "outputId": "87ec40b6-50bc-4611-efd6-4570f643d555"
      },
      "outputs": [
        {
          "name": "stdout",
          "output_type": "stream",
          "text": [
            "Matrix multiplication result:\n",
            "[[16 19]\n",
            " [26 31]]\n",
            "Covariance between matrices:\n",
            "[[0.5 0.5 0.5 0.5]\n",
            " [0.5 0.5 0.5 0.5]\n",
            " [0.5 0.5 0.5 0.5]\n",
            " [0.5 0.5 0.5 0.5]]\n"
          ]
        }
      ],
      "source": [
        "#g\n",
        "\n",
        "p = np.array([[1, 2], [2, 3]])\n",
        "q = np.array([[4, 5], [6, 7]])\n",
        "\n",
        "# Matrix multiplication\n",
        "result_matrix = np.dot(p, q)\n",
        "print(\"Matrix multiplication result:\")\n",
        "print(result_matrix)\n",
        "\n",
        "# Covariance between matrices\n",
        "covariance_matrix = np.cov(p, q)\n",
        "print(\"Covariance between matrices:\")\n",
        "print(covariance_matrix)\n"
      ]
    },
    {
      "cell_type": "code",
      "execution_count": null,
      "metadata": {
        "colab": {
          "base_uri": "https://localhost:8080/"
        },
        "id": "u__5tEdPvRJq",
        "outputId": "7dd556f0-a0b9-4f71-e1ce-caadedae73ef"
      },
      "outputs": [
        {
          "name": "stdout",
          "output_type": "stream",
          "text": [
            "Inner product:\n",
            "79\n",
            "\n",
            "Outer product:\n",
            "[[ 2 10  0 10 20  6]\n",
            " [ 3 15  0 15 30  9]\n",
            " [ 4 20  0 20 40 12]\n",
            " [ 3 15  0 15 30  9]\n",
            " [ 2 10  0 10 20  6]\n",
            " [ 9 45  0 45 90 27]]\n",
            "\n",
            "Cartesian product:\n",
            "[[ 2  1]\n",
            " [ 3  1]\n",
            " [ 4  1]\n",
            " [ 3  1]\n",
            " [ 2  1]\n",
            " [ 9  1]\n",
            " [ 2  5]\n",
            " [ 3  5]\n",
            " [ 4  5]\n",
            " [ 3  5]\n",
            " [ 2  5]\n",
            " [ 9  5]\n",
            " [ 2  0]\n",
            " [ 3  0]\n",
            " [ 4  0]\n",
            " [ 3  0]\n",
            " [ 2  0]\n",
            " [ 9  0]\n",
            " [ 2  5]\n",
            " [ 3  5]\n",
            " [ 4  5]\n",
            " [ 3  5]\n",
            " [ 2  5]\n",
            " [ 9  5]\n",
            " [ 2 10]\n",
            " [ 3 10]\n",
            " [ 4 10]\n",
            " [ 3 10]\n",
            " [ 2 10]\n",
            " [ 9 10]\n",
            " [ 2  3]\n",
            " [ 3  3]\n",
            " [ 4  3]\n",
            " [ 3  3]\n",
            " [ 2  3]\n",
            " [ 9  3]]\n"
          ]
        }
      ],
      "source": [
        "#h\n",
        "\n",
        "# Given matrices\n",
        "x = np.array([[2, 3, 4], [3, 2, 9]])\n",
        "y = np.array([[1, 5, 0], [5, 10, 3]])\n",
        "\n",
        "# i. Inner product (Dot product)\n",
        "inner_product = np.inner(x.flatten(), y.flatten())\n",
        "print(\"Inner product:\")\n",
        "print(inner_product)\n",
        "\n",
        "# ii. Outer product\n",
        "outer_product = np.outer(x.flatten(), y.flatten())\n",
        "print(\"\\nOuter product:\")\n",
        "print(outer_product)\n",
        "\n",
        "# iii. Cartesian product\n",
        "cartesian_product = np.transpose([np.tile(x.flatten(), len(y.flatten())), np.repeat(y.flatten(), len(x.flatten()))])\n",
        "print(\"\\nCartesian product:\")\n",
        "print(cartesian_product)\n"
      ]
    },
    {
      "cell_type": "markdown",
      "metadata": {
        "id": "Dr2gxDQquK3L"
      },
      "source": [
        "Question 2"
      ]
    },
    {
      "cell_type": "code",
      "execution_count": null,
      "metadata": {
        "colab": {
          "base_uri": "https://localhost:8080/"
        },
        "id": "YKXN8RD4vfg3",
        "outputId": "2a47dc5f-dffb-4b8d-9793-a15f443feca9"
      },
      "outputs": [
        {
          "name": "stdout",
          "output_type": "stream",
          "text": [
            "Element-wise absolute value:\n",
            "[[1 2 3]\n",
            " [4 5 6]]\n"
          ]
        }
      ],
      "source": [
        "#a i\n",
        "array = np.array([[1, -2, 3], [-4, 5, -6]])\n",
        "\n",
        "# i. Element-wise absolute value\n",
        "abs_array = np.abs(array)\n",
        "print(\"Element-wise absolute value:\")\n",
        "print(abs_array)\n"
      ]
    },
    {
      "cell_type": "code",
      "execution_count": null,
      "metadata": {
        "colab": {
          "base_uri": "https://localhost:8080/"
        },
        "id": "-3zFxgIdvu5D",
        "outputId": "aaa1c97e-cde4-4955-bace-2b7a244f9ce6"
      },
      "outputs": [
        {
          "name": "stdout",
          "output_type": "stream",
          "text": [
            "Percentiles for each row:\n",
            "[[-0.5 -5. ]\n",
            " [ 1.  -4. ]\n",
            " [ 2.   0.5]]\n",
            "\n",
            "Percentiles for each column:\n",
            "[[-2.75 -0.25 -3.75]\n",
            " [-1.5   1.5  -1.5 ]\n",
            " [-0.25  3.25  0.75]]\n"
          ]
        }
      ],
      "source": [
        "# ii\n",
        "array = np.array([[1, -2, 3], [-4, 5, -6]])\n",
        "\n",
        "# ii. Percentiles\n",
        "percentiles_row = np.percentile(array, [25, 50, 75], axis=1)\n",
        "percentiles_column = np.percentile(array, [25, 50, 75], axis=0)\n",
        "\n",
        "print(\"Percentiles for each row:\")\n",
        "print(percentiles_row)\n",
        "\n",
        "print(\"\\nPercentiles for each column:\")\n",
        "print(percentiles_column)\n"
      ]
    },
    {
      "cell_type": "code",
      "execution_count": null,
      "metadata": {
        "colab": {
          "base_uri": "https://localhost:8080/"
        },
        "id": "FDzHWhEGv2JI",
        "outputId": "d0a3b5ff-c88d-4fe6-da07-d72f33f5befa"
      },
      "outputs": [
        {
          "name": "stdout",
          "output_type": "stream",
          "text": [
            "Mean, Median, and Standard Deviation of the flattened array:\n",
            "Mean: -0.5\n",
            "Median: -0.5\n",
            "Standard Deviation: 3.8622100754188224\n",
            "\n",
            "Mean, Median, and Standard Deviation of each column:\n",
            "Mean: [-1.5  1.5 -1.5]\n",
            "Median: [-1.5  1.5 -1.5]\n",
            "Standard Deviation: [2.5 3.5 4.5]\n",
            "\n",
            "Mean, Median, and Standard Deviation of each row:\n",
            "Mean: [ 0.66666667 -1.66666667]\n",
            "Median: [ 1. -4.]\n",
            "Standard Deviation: [2.05480467 4.78423336]\n"
          ]
        }
      ],
      "source": [
        "# iii. Mean, Median, and Standard Deviation\n",
        "mean_flattened = np.mean(array.flatten())\n",
        "median_flattened = np.median(array.flatten())\n",
        "std_flattened = np.std(array.flatten())\n",
        "\n",
        "mean_column = np.mean(array, axis=0)\n",
        "median_column = np.median(array, axis=0)\n",
        "std_column = np.std(array, axis=0)\n",
        "\n",
        "mean_row = np.mean(array, axis=1)\n",
        "median_row = np.median(array, axis=1)\n",
        "std_row = np.std(array, axis=1)\n",
        "\n",
        "print(\"Mean, Median, and Standard Deviation of the flattened array:\")\n",
        "print(\"Mean:\", mean_flattened)\n",
        "print(\"Median:\", median_flattened)\n",
        "print(\"Standard Deviation:\", std_flattened)\n",
        "\n",
        "print(\"\\nMean, Median, and Standard Deviation of each column:\")\n",
        "print(\"Mean:\", mean_column)\n",
        "print(\"Median:\", median_column)\n",
        "print(\"Standard Deviation:\", std_column)\n",
        "\n",
        "print(\"\\nMean, Median, and Standard Deviation of each row:\")\n",
        "print(\"Mean:\", mean_row)\n",
        "print(\"Median:\", median_row)\n",
        "print(\"Standard Deviation:\", std_row)\n"
      ]
    },
    {
      "cell_type": "code",
      "execution_count": null,
      "metadata": {
        "colab": {
          "base_uri": "https://localhost:8080/"
        },
        "id": "C0nlZdcVwDuO",
        "outputId": "af3e21b7-168c-4168-815b-84b47fe8bf58"
      },
      "outputs": [
        {
          "name": "stdout",
          "output_type": "stream",
          "text": [
            "Floor values: [-2. -2. -1.  0.  1.  1.  3.]\n",
            "Ceiling values: [-1. -1. -0.  1.  2.  2.  3.]\n",
            "Truncated values: [-1. -1. -0.  0.  1.  1.  3.]\n",
            "Rounded values: [-2. -2. -0.  0.  2.  2.  3.]\n"
          ]
        }
      ],
      "source": [
        "#b\n",
        "a = np.array([-1.8, -1.6, -0.5, 0.5, 1.6, 1.8, 3.0])\n",
        "\n",
        "# Floor, Ceiling, and Truncated Value\n",
        "floor_values = np.floor(a)\n",
        "ceiling_values = np.ceil(a)\n",
        "truncated_values = np.trunc(a)\n",
        "\n",
        "# Rounded Values\n",
        "rounded_values = np.round(a)\n",
        "\n",
        "print(\"Floor values:\", floor_values)\n",
        "print(\"Ceiling values:\", ceiling_values)\n",
        "print(\"Truncated values:\", truncated_values)\n",
        "print(\"Rounded values:\", rounded_values)\n"
      ]
    },
    {
      "cell_type": "markdown",
      "metadata": {
        "id": "N1xma24iuMG6"
      },
      "source": [
        "Q3: Based on Searching and Sorting"
      ]
    },
    {
      "cell_type": "code",
      "execution_count": null,
      "metadata": {
        "colab": {
          "base_uri": "https://localhost:8080/"
        },
        "id": "W89_5rySwPc9",
        "outputId": "e4dde14c-39cc-4500-fc18-8b3b57bd7188"
      },
      "outputs": [
        {
          "name": "stdout",
          "output_type": "stream",
          "text": [
            "Sorted array:\n",
            "[ 10  16  16  52  54  62 453]\n",
            "\n",
            "Indices of sorted array:\n",
            "[0 3 4 1 5 2 6]\n",
            "\n",
            "4 smallest elements:\n",
            "[10 16 16 52]\n",
            "\n",
            "5 largest elements:\n",
            "[ 16  52  54  62 453]\n"
          ]
        }
      ],
      "source": [
        "#a\n",
        "array = np.array([10, 52, 62, 16, 16, 54, 453])\n",
        "\n",
        "# i. Sorted array\n",
        "sorted_array = np.sort(array)\n",
        "print(\"Sorted array:\")\n",
        "print(sorted_array)\n",
        "\n",
        "# ii. Indices of sorted array\n",
        "sorted_indices = np.argsort(array)\n",
        "print(\"\\nIndices of sorted array:\")\n",
        "print(sorted_indices)\n",
        "\n",
        "# iii. 4 smallest elements\n",
        "smallest_elements = sorted_array[:4]\n",
        "print(\"\\n4 smallest elements:\")\n",
        "print(smallest_elements)\n",
        "\n",
        "# iv. 5 largest elements\n",
        "largest_elements = sorted_array[-5:]\n",
        "print(\"\\n5 largest elements:\")\n",
        "print(largest_elements)\n"
      ]
    },
    {
      "cell_type": "code",
      "execution_count": null,
      "metadata": {
        "colab": {
          "base_uri": "https://localhost:8080/"
        },
        "id": "q4hiq8qnweLj",
        "outputId": "fcbac647-8041-475c-8e1e-537c48a68247"
      },
      "outputs": [
        {
          "name": "stdout",
          "output_type": "stream",
          "text": [
            "Integer elements only:\n",
            "[1. 2. 3. 2.]\n",
            "\n",
            "Float elements only:\n",
            "[1.2 2.2]\n"
          ]
        }
      ],
      "source": [
        "#b\n",
        "array = np.array([1.0, 1.2, 2.2, 2.0, 3.0, 2.0])\n",
        "\n",
        "# i. Integer elements only\n",
        "integer_mask = array % 1 == 0\n",
        "integer_elements = array[integer_mask]\n",
        "print(\"Integer elements only:\")\n",
        "print(integer_elements)\n",
        "\n",
        "# ii. Float elements only\n",
        "float_mask = array % 1 != 0\n",
        "float_elements = array[float_mask]\n",
        "print(\"\\nFloat elements only:\")\n",
        "print(float_elements)\n"
      ]
    },
    {
      "cell_type": "markdown",
      "metadata": {
        "id": "NCBaga2Fwp9U"
      },
      "source": [
        "Question 4"
      ]
    },
    {
      "cell_type": "code",
      "execution_count": null,
      "metadata": {
        "colab": {
          "base_uri": "https://localhost:8080/"
        },
        "id": "98Q74qplxT4T",
        "outputId": "1ba59ac7-4f33-4b56-8cb2-d7234e008654"
      },
      "outputs": [
        {
          "name": "stdout",
          "output_type": "stream",
          "text": [
            "[[245 109   1]\n",
            " [250 109   3]\n",
            " [254 107   1]\n",
            " ...\n",
            " [ 40  47  57]\n",
            " [ 40  47  57]\n",
            " [ 40  47  57]]\n"
          ]
        }
      ],
      "source": [
        "from PIL import Image\n",
        "import numpy as np\n",
        "\n",
        "def img_to_array(path):\n",
        "    # Read the image\n",
        "    img = Image.open(path)\n",
        "\n",
        "    # Convert the image to grayscale or RGB mode based on its mode\n",
        "    if img.mode == 'RGB':\n",
        "\n",
        "        img_array = np.array(img)\n",
        "\n",
        "        img_array_flattened = img_array.flatten()\n",
        "    elif img.mode == 'L':\n",
        "\n",
        "        img_array = np.array(img)\n",
        "        # Flatten the 2D array to make it 1D\n",
        "        img_array_flattened = img_array.flatten()\n",
        "    else:\n",
        "        raise ValueError(\"Unsupported image mode. Only RGB and grayscale images are supported.\")\n",
        "\n",
        "    # Save the flattened image array as a text file\n",
        "    np.savetxt('image_data.txt', img_array_flattened, fmt='%d')\n",
        "\n",
        "# Provide the path of the image file\n",
        "image_path = '/colors.jfif'\n",
        "\n",
        "# Call the function to save the image data as a text file\n",
        "img_to_array(image_path)\n",
        "\n",
        "# Load the text file containing the image data\n",
        "loaded_img_array_flattened = np.loadtxt('image_data.txt', dtype=int)\n",
        "\n",
        "# Reshape the flattened array to original shape (3D for RGB, 2D for grayscale)\n",
        "img_shape = (loaded_img_array_flattened.shape[0] // 3, 3) if len(loaded_img_array_flattened.shape) == 1 else loaded_img_array_flattened.shape\n",
        "loaded_img_array = loaded_img_array_flattened.reshape(img_shape)\n",
        "\n",
        "# Display the loaded image data\n",
        "print(loaded_img_array)\n"
      ]
    },
    {
      "cell_type": "code",
      "execution_count": null,
      "metadata": {
        "colab": {
          "base_uri": "https://localhost:8080/"
        },
        "id": "qeyiG1QpxlLn",
        "outputId": "7a0863e6-badf-4d25-fa9e-79ef8993d08e"
      },
      "outputs": [
        {
          "name": "stdout",
          "output_type": "stream",
          "text": [
            "[[ 5  5  5]\n",
            " [ 5  5  5]\n",
            " [ 5  5  5]\n",
            " ...\n",
            " [24 24 24]\n",
            " [25 25 25]\n",
            " [25 25 25]]\n"
          ]
        }
      ],
      "source": [
        "from PIL import Image\n",
        "import numpy as np\n",
        "\n",
        "def img_to_array(path):\n",
        "    # Read the image\n",
        "    img = Image.open(path)\n",
        "\n",
        "    # Convert the image to grayscale or RGB mode based on its mode\n",
        "    if img.mode == 'RGB':\n",
        "        # Convert RGB image to NumPy array\n",
        "        img_array = np.array(img)\n",
        "        # Flatten the 3D array to make it 1D\n",
        "        img_array_flattened = img_array.flatten()\n",
        "    elif img.mode == 'L':\n",
        "        # Convert grayscale image to NumPy array\n",
        "        img_array = np.array(img)\n",
        "        # Flatten the 2D array to make it 1D\n",
        "        img_array_flattened = img_array.flatten()\n",
        "    else:\n",
        "        raise ValueError(\"Unsupported image mode. Only RGB and grayscale images are supported.\")\n",
        "\n",
        "    # Save the flattened image array as a text file\n",
        "    np.savetxt('image_data.txt', img_array_flattened, fmt='%d')\n",
        "\n",
        "image_path = '/blacknwhite.jfif'\n",
        "\n",
        "# Call the function to save the image data as a text file\n",
        "img_to_array(image_path)\n",
        "\n",
        "# Load the text file containing the image data\n",
        "loaded_img_array_flattened = np.loadtxt('image_data.txt', dtype=int)\n",
        "\n",
        "# Reshape the flattened array to original shape (3D for RGB, 2D for grayscale)\n",
        "img_shape = (loaded_img_array_flattened.shape[0] // 3, 3) if len(loaded_img_array_flattened.shape) == 1 else loaded_img_array_flattened.shape\n",
        "loaded_img_array = loaded_img_array_flattened.reshape(img_shape)\n",
        "\n",
        "\n",
        "print(loaded_img_array)\n"
      ]
    },
    {
      "cell_type": "code",
      "execution_count": null,
      "metadata": {
        "id": "gbbOYEH1yWhd"
      },
      "outputs": [],
      "source": []
    }
  ],
  "metadata": {
    "colab": {
      "provenance": []
    },
    "kernelspec": {
      "display_name": "Python 3",
      "name": "python3"
    },
    "language_info": {
      "name": "python"
    }
  },
  "nbformat": 4,
  "nbformat_minor": 0
}
